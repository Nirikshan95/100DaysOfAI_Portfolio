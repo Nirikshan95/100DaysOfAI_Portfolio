{
 "cells": [
  {
   "cell_type": "code",
   "execution_count": 1,
   "metadata": {},
   "outputs": [],
   "source": [
    "import pandas as pd\n",
    "import pandas as np"
   ]
  },
  {
   "cell_type": "markdown",
   "metadata": {},
   "source": [
    "# delimeter changing for progress.csv upto 64 entries only"
   ]
  },
  {
   "cell_type": "code",
   "execution_count": 2,
   "metadata": {},
   "outputs": [],
   "source": [
    "input_csv = r'public\\data\\progress_upto64_comma_sep.csv' "
   ]
  },
  {
   "cell_type": "code",
   "execution_count": 3,
   "metadata": {},
   "outputs": [],
   "source": [
    "df1= pd.read_csv(input_csv, delimiter=',',quotechar='\"') "
   ]
  },
  {
   "cell_type": "code",
   "execution_count": 4,
   "metadata": {},
   "outputs": [
    {
     "data": {
      "text/html": [
       "<div>\n",
       "<style scoped>\n",
       "    .dataframe tbody tr th:only-of-type {\n",
       "        vertical-align: middle;\n",
       "    }\n",
       "\n",
       "    .dataframe tbody tr th {\n",
       "        vertical-align: top;\n",
       "    }\n",
       "\n",
       "    .dataframe thead th {\n",
       "        text-align: right;\n",
       "    }\n",
       "</style>\n",
       "<table border=\"1\" class=\"dataframe\">\n",
       "  <thead>\n",
       "    <tr style=\"text-align: right;\">\n",
       "      <th></th>\n",
       "      <th>title</th>\n",
       "      <th>task</th>\n",
       "      <th>tools</th>\n",
       "      <th>summary1</th>\n",
       "      <th>summary2</th>\n",
       "      <th>linkedinUrl</th>\n",
       "    </tr>\n",
       "  </thead>\n",
       "  <tbody>\n",
       "    <tr>\n",
       "      <th>58</th>\n",
       "      <td>Prioritizing Marketing Tactics with AI</td>\n",
       "      <td>Using AI to prioritize specific marketing tact...</td>\n",
       "      <td>ChatGPT</td>\n",
       "      <td>AI was used to prioritize marketing tactics fo...</td>\n",
       "      <td>Using the PREP framework, AI helped identify t...</td>\n",
       "      <td>https://lnkd.in/dfb3fh2g</td>\n",
       "    </tr>\n",
       "    <tr>\n",
       "      <th>59</th>\n",
       "      <td>Creating Graphs &amp; Charts with AI Assistants</td>\n",
       "      <td>Using AI to create visualizations from a datas...</td>\n",
       "      <td>ChatGPT</td>\n",
       "      <td>Data from a heart disease dataset was visualiz...</td>\n",
       "      <td>ChatGPT enabled rapid data visualization, crea...</td>\n",
       "      <td>https://lnkd.in/esu2R3eY</td>\n",
       "    </tr>\n",
       "    <tr>\n",
       "      <th>60</th>\n",
       "      <td>App Creation with Airtable Cobuilder</td>\n",
       "      <td>Using Airtable Cobuilder to create a community...</td>\n",
       "      <td>Airtable</td>\n",
       "      <td>Developed 'SkillLink Hub,' an app that uses AI...</td>\n",
       "      <td>Airtable Cobuilder enabled rapid prototyping o...</td>\n",
       "      <td>https://lnkd.in/esu2R3eY</td>\n",
       "    </tr>\n",
       "    <tr>\n",
       "      <th>61</th>\n",
       "      <td>Visualizing Machine Learning Workflows</td>\n",
       "      <td>Using Napkin AI to create visual workflows for...</td>\n",
       "      <td>Napkin AI</td>\n",
       "      <td>Developed visual representations of machine le...</td>\n",
       "      <td>By leveraging Napkin AI’s Auto Spark feature, ...</td>\n",
       "      <td>https://lnkd.in/esu2R3eY</td>\n",
       "    </tr>\n",
       "    <tr>\n",
       "      <th>62</th>\n",
       "      <td>Rest &amp; Reflect</td>\n",
       "      <td>Rest &amp; Reflect</td>\n",
       "      <td>NaN</td>\n",
       "      <td>Today was a day dedicated to rest and reflect,...</td>\n",
       "      <td>As part of today’s rest and reflection, I revi...</td>\n",
       "      <td>https://www.linkedin.com/posts/100DaysOfAI-day...</td>\n",
       "    </tr>\n",
       "  </tbody>\n",
       "</table>\n",
       "</div>"
      ],
      "text/plain": [
       "                                          title  \\\n",
       "58       Prioritizing Marketing Tactics with AI   \n",
       "59  Creating Graphs & Charts with AI Assistants   \n",
       "60         App Creation with Airtable Cobuilder   \n",
       "61       Visualizing Machine Learning Workflows   \n",
       "62                               Rest & Reflect   \n",
       "\n",
       "                                                 task      tools  \\\n",
       "58  Using AI to prioritize specific marketing tact...    ChatGPT   \n",
       "59  Using AI to create visualizations from a datas...    ChatGPT   \n",
       "60  Using Airtable Cobuilder to create a community...   Airtable   \n",
       "61  Using Napkin AI to create visual workflows for...  Napkin AI   \n",
       "62                                     Rest & Reflect        NaN   \n",
       "\n",
       "                                             summary1  \\\n",
       "58  AI was used to prioritize marketing tactics fo...   \n",
       "59  Data from a heart disease dataset was visualiz...   \n",
       "60  Developed 'SkillLink Hub,' an app that uses AI...   \n",
       "61  Developed visual representations of machine le...   \n",
       "62  Today was a day dedicated to rest and reflect,...   \n",
       "\n",
       "                                             summary2  \\\n",
       "58  Using the PREP framework, AI helped identify t...   \n",
       "59  ChatGPT enabled rapid data visualization, crea...   \n",
       "60  Airtable Cobuilder enabled rapid prototyping o...   \n",
       "61  By leveraging Napkin AI’s Auto Spark feature, ...   \n",
       "62  As part of today’s rest and reflection, I revi...   \n",
       "\n",
       "                                          linkedinUrl  \n",
       "58                           https://lnkd.in/dfb3fh2g  \n",
       "59                           https://lnkd.in/esu2R3eY  \n",
       "60                           https://lnkd.in/esu2R3eY  \n",
       "61                           https://lnkd.in/esu2R3eY  \n",
       "62  https://www.linkedin.com/posts/100DaysOfAI-day...  "
      ]
     },
     "execution_count": 4,
     "metadata": {},
     "output_type": "execute_result"
    }
   ],
   "source": [
    "df1.tail()"
   ]
  },
  {
   "cell_type": "code",
   "execution_count": 5,
   "metadata": {},
   "outputs": [
    {
     "data": {
      "text/plain": [
       "title                                          Week 3 Reflection\n",
       "task           Reflected on a productive week of learning and...\n",
       "tools                                                        NaN\n",
       "summary1       • Created social media videos with Kapwing on ...\n",
       "summary2       This week has been incredibly productive and e...\n",
       "linkedinUrl                             https://lnkd.in/gtbCMtnf\n",
       "Name: 20, dtype: object"
      ]
     },
     "execution_count": 5,
     "metadata": {},
     "output_type": "execute_result"
    }
   ],
   "source": [
    "df1.iloc[20]"
   ]
  },
  {
   "cell_type": "code",
   "execution_count": 6,
   "metadata": {},
   "outputs": [
    {
     "data": {
      "text/plain": [
       "nan"
      ]
     },
     "execution_count": 6,
     "metadata": {},
     "output_type": "execute_result"
    }
   ],
   "source": [
    "df1.tools.iloc[48]"
   ]
  },
  {
   "cell_type": "code",
   "execution_count": 7,
   "metadata": {},
   "outputs": [],
   "source": [
    "df1.drop(columns='linkedinUrl',inplace=True)"
   ]
  },
  {
   "cell_type": "code",
   "execution_count": 8,
   "metadata": {},
   "outputs": [
    {
     "data": {
      "text/html": [
       "<div>\n",
       "<style scoped>\n",
       "    .dataframe tbody tr th:only-of-type {\n",
       "        vertical-align: middle;\n",
       "    }\n",
       "\n",
       "    .dataframe tbody tr th {\n",
       "        vertical-align: top;\n",
       "    }\n",
       "\n",
       "    .dataframe thead th {\n",
       "        text-align: right;\n",
       "    }\n",
       "</style>\n",
       "<table border=\"1\" class=\"dataframe\">\n",
       "  <thead>\n",
       "    <tr style=\"text-align: right;\">\n",
       "      <th></th>\n",
       "      <th>title</th>\n",
       "      <th>task</th>\n",
       "      <th>tools</th>\n",
       "      <th>summary1</th>\n",
       "      <th>summary2</th>\n",
       "    </tr>\n",
       "  </thead>\n",
       "  <tbody>\n",
       "    <tr>\n",
       "      <th>29</th>\n",
       "      <td>Mastering Video Shorts with OpusClip!</td>\n",
       "      <td>Learned how to repurpose long-form video into ...</td>\n",
       "      <td>Opus Clip</td>\n",
       "      <td>Created social media video shorts from longer ...</td>\n",
       "      <td>This experience highlighted the impact of vide...</td>\n",
       "    </tr>\n",
       "    <tr>\n",
       "      <th>17</th>\n",
       "      <td>Creating AI-Powered Ad Creatives</td>\n",
       "      <td>Utilized AdCreative.ai to create an advertisin...</td>\n",
       "      <td>AdCreative.ai</td>\n",
       "      <td>Learned how to leverage AI for efficient ad de...</td>\n",
       "      <td>Today, I explored AI-powered ad creative desig...</td>\n",
       "    </tr>\n",
       "    <tr>\n",
       "      <th>24</th>\n",
       "      <td>Creating AI Art with Adobe Firefly</td>\n",
       "      <td>Learning to generate AI art using Adobe Firefl...</td>\n",
       "      <td>Adobe Firefly</td>\n",
       "      <td>Explored the capabilities of Adobe Firefly by ...</td>\n",
       "      <td>Today, I experimented with Adobe Firefly, craf...</td>\n",
       "    </tr>\n",
       "    <tr>\n",
       "      <th>28</th>\n",
       "      <td>Crafting a Winning Marketing Strategy with AI</td>\n",
       "      <td>Created a comprehensive marketing strategy usi...</td>\n",
       "      <td>ChatGPT, AI Assistant</td>\n",
       "      <td>Developed a detailed marketing plan utilizing ...</td>\n",
       "      <td>The process demonstrated the potential of AI i...</td>\n",
       "    </tr>\n",
       "  </tbody>\n",
       "</table>\n",
       "</div>"
      ],
      "text/plain": [
       "                                            title  \\\n",
       "29          Mastering Video Shorts with OpusClip!   \n",
       "17               Creating AI-Powered Ad Creatives   \n",
       "24             Creating AI Art with Adobe Firefly   \n",
       "28  Crafting a Winning Marketing Strategy with AI   \n",
       "\n",
       "                                                 task                  tools  \\\n",
       "29  Learned how to repurpose long-form video into ...              Opus Clip   \n",
       "17  Utilized AdCreative.ai to create an advertisin...          AdCreative.ai   \n",
       "24  Learning to generate AI art using Adobe Firefl...          Adobe Firefly   \n",
       "28  Created a comprehensive marketing strategy usi...  ChatGPT, AI Assistant   \n",
       "\n",
       "                                             summary1  \\\n",
       "29  Created social media video shorts from longer ...   \n",
       "17  Learned how to leverage AI for efficient ad de...   \n",
       "24  Explored the capabilities of Adobe Firefly by ...   \n",
       "28  Developed a detailed marketing plan utilizing ...   \n",
       "\n",
       "                                             summary2  \n",
       "29  This experience highlighted the impact of vide...  \n",
       "17  Today, I explored AI-powered ad creative desig...  \n",
       "24  Today, I experimented with Adobe Firefly, craf...  \n",
       "28  The process demonstrated the potential of AI i...  "
      ]
     },
     "execution_count": 8,
     "metadata": {},
     "output_type": "execute_result"
    }
   ],
   "source": [
    "df1.sample(4)"
   ]
  },
  {
   "cell_type": "code",
   "execution_count": 9,
   "metadata": {},
   "outputs": [],
   "source": [
    "df2=pd.read_csv(r'public\\data\\progress_after64_comma_sep.csv',delimiter='|',quotechar='\"')"
   ]
  },
  {
   "cell_type": "code",
   "execution_count": 10,
   "metadata": {},
   "outputs": [
    {
     "data": {
      "text/html": [
       "<div>\n",
       "<style scoped>\n",
       "    .dataframe tbody tr th:only-of-type {\n",
       "        vertical-align: middle;\n",
       "    }\n",
       "\n",
       "    .dataframe tbody tr th {\n",
       "        vertical-align: top;\n",
       "    }\n",
       "\n",
       "    .dataframe thead th {\n",
       "        text-align: right;\n",
       "    }\n",
       "</style>\n",
       "<table border=\"1\" class=\"dataframe\">\n",
       "  <thead>\n",
       "    <tr style=\"text-align: right;\">\n",
       "      <th></th>\n",
       "      <th>title</th>\n",
       "      <th>task</th>\n",
       "      <th>tools</th>\n",
       "      <th>summary1</th>\n",
       "      <th>summary2</th>\n",
       "      <th>linkedinUrl</th>\n",
       "    </tr>\n",
       "  </thead>\n",
       "  <tbody>\n",
       "    <tr>\n",
       "      <th>32</th>\n",
       "      <td>Reflecting on My Hero’s Journey</td>\n",
       "      <td>Today's focus was on sharing the epic tale of ...</td>\n",
       "      <td>NaN</td>\n",
       "      <td>As I near the final days of this incredible ch...</td>\n",
       "      <td>The path wasn’t always easy. Learning new tool...</td>\n",
       "      <td>NaN</td>\n",
       "    </tr>\n",
       "    <tr>\n",
       "      <th>33</th>\n",
       "      <td>Grateful for the Support and Growth During #10...</td>\n",
       "      <td>Today's focus was on expressing gratitude for ...</td>\n",
       "      <td>NaN</td>\n",
       "      <td>As Day 97 rolls in, I’m taking a moment to pau...</td>\n",
       "      <td>I’ve had the honor of learning alongside some ...</td>\n",
       "      <td>NaN</td>\n",
       "    </tr>\n",
       "    <tr>\n",
       "      <th>34</th>\n",
       "      <td>Spreading the Ripple Effect!</td>\n",
       "      <td>Today's focus was on expressing gratitude and ...</td>\n",
       "      <td>NaN</td>\n",
       "      <td>As I dive deeper into Day 98 of the #100DaysOf...</td>\n",
       "      <td>Every lesson learned and every tool mastered h...</td>\n",
       "      <td>NaN</td>\n",
       "    </tr>\n",
       "    <tr>\n",
       "      <th>35</th>\n",
       "      <td>The Power of Feedback – Day 99 of #100DaysOfAI</td>\n",
       "      <td>Today's task centered around providing feedbac...</td>\n",
       "      <td>NaN</td>\n",
       "      <td>Day 99 of #100DaysOfAI and I’ve officially com...</td>\n",
       "      <td>Feedback isn’t just about pointing out what co...</td>\n",
       "      <td>NaN</td>\n",
       "    </tr>\n",
       "    <tr>\n",
       "      <th>36</th>\n",
       "      <td>Proudly Earned the Completionist Badge for #10...</td>\n",
       "      <td>Today marks the culmination of 100 days of ded...</td>\n",
       "      <td>Runway, Kapwing, Chipp, Unicorn Platform, Soft...</td>\n",
       "      <td>Day 100 of #100DaysOfAI is here, and what a tr...</td>\n",
       "      <td>The tools that shaped my journey include Runwa...</td>\n",
       "      <td>NaN</td>\n",
       "    </tr>\n",
       "  </tbody>\n",
       "</table>\n",
       "</div>"
      ],
      "text/plain": [
       "                                                title  \\\n",
       "32                    Reflecting on My Hero’s Journey   \n",
       "33  Grateful for the Support and Growth During #10...   \n",
       "34                       Spreading the Ripple Effect!   \n",
       "35     The Power of Feedback – Day 99 of #100DaysOfAI   \n",
       "36  Proudly Earned the Completionist Badge for #10...   \n",
       "\n",
       "                                                 task  \\\n",
       "32  Today's focus was on sharing the epic tale of ...   \n",
       "33  Today's focus was on expressing gratitude for ...   \n",
       "34  Today's focus was on expressing gratitude and ...   \n",
       "35  Today's task centered around providing feedbac...   \n",
       "36  Today marks the culmination of 100 days of ded...   \n",
       "\n",
       "                                                tools  \\\n",
       "32                                                NaN   \n",
       "33                                                NaN   \n",
       "34                                                NaN   \n",
       "35                                                NaN   \n",
       "36  Runway, Kapwing, Chipp, Unicorn Platform, Soft...   \n",
       "\n",
       "                                             summary1  \\\n",
       "32  As I near the final days of this incredible ch...   \n",
       "33  As Day 97 rolls in, I’m taking a moment to pau...   \n",
       "34  As I dive deeper into Day 98 of the #100DaysOf...   \n",
       "35  Day 99 of #100DaysOfAI and I’ve officially com...   \n",
       "36  Day 100 of #100DaysOfAI is here, and what a tr...   \n",
       "\n",
       "                                             summary2 linkedinUrl  \n",
       "32  The path wasn’t always easy. Learning new tool...         NaN  \n",
       "33  I’ve had the honor of learning alongside some ...         NaN  \n",
       "34  Every lesson learned and every tool mastered h...         NaN  \n",
       "35  Feedback isn’t just about pointing out what co...         NaN  \n",
       "36  The tools that shaped my journey include Runwa...         NaN  "
      ]
     },
     "execution_count": 10,
     "metadata": {},
     "output_type": "execute_result"
    }
   ],
   "source": [
    "df2.tail()"
   ]
  },
  {
   "cell_type": "code",
   "execution_count": 11,
   "metadata": {},
   "outputs": [],
   "source": [
    "df2.drop(columns='linkedinUrl',inplace=True)"
   ]
  },
  {
   "cell_type": "code",
   "execution_count": 12,
   "metadata": {},
   "outputs": [
    {
     "data": {
      "text/html": [
       "<div>\n",
       "<style scoped>\n",
       "    .dataframe tbody tr th:only-of-type {\n",
       "        vertical-align: middle;\n",
       "    }\n",
       "\n",
       "    .dataframe tbody tr th {\n",
       "        vertical-align: top;\n",
       "    }\n",
       "\n",
       "    .dataframe thead th {\n",
       "        text-align: right;\n",
       "    }\n",
       "</style>\n",
       "<table border=\"1\" class=\"dataframe\">\n",
       "  <thead>\n",
       "    <tr style=\"text-align: right;\">\n",
       "      <th></th>\n",
       "      <th>title</th>\n",
       "      <th>task</th>\n",
       "      <th>tools</th>\n",
       "      <th>summary1</th>\n",
       "      <th>summary2</th>\n",
       "    </tr>\n",
       "  </thead>\n",
       "  <tbody>\n",
       "    <tr>\n",
       "      <th>18</th>\n",
       "      <td>Planning My AI Portfolio</td>\n",
       "      <td>Started planning my AI portfolio by selecting ...</td>\n",
       "      <td>NaN</td>\n",
       "      <td>Today's focus was on curating a selection of p...</td>\n",
       "      <td>Looking forward to building a professional and...</td>\n",
       "    </tr>\n",
       "  </tbody>\n",
       "</table>\n",
       "</div>"
      ],
      "text/plain": [
       "                       title  \\\n",
       "18  Planning My AI Portfolio   \n",
       "\n",
       "                                                 task tools  \\\n",
       "18  Started planning my AI portfolio by selecting ...   NaN   \n",
       "\n",
       "                                             summary1  \\\n",
       "18  Today's focus was on curating a selection of p...   \n",
       "\n",
       "                                             summary2  \n",
       "18  Looking forward to building a professional and...  "
      ]
     },
     "execution_count": 12,
     "metadata": {},
     "output_type": "execute_result"
    }
   ],
   "source": [
    "df2.sample()"
   ]
  },
  {
   "cell_type": "code",
   "execution_count": 13,
   "metadata": {},
   "outputs": [],
   "source": [
    "df=pd.concat([df1,df2],axis=0,ignore_index=True)"
   ]
  },
  {
   "cell_type": "code",
   "execution_count": 14,
   "metadata": {},
   "outputs": [
    {
     "data": {
      "text/html": [
       "<div>\n",
       "<style scoped>\n",
       "    .dataframe tbody tr th:only-of-type {\n",
       "        vertical-align: middle;\n",
       "    }\n",
       "\n",
       "    .dataframe tbody tr th {\n",
       "        vertical-align: top;\n",
       "    }\n",
       "\n",
       "    .dataframe thead th {\n",
       "        text-align: right;\n",
       "    }\n",
       "</style>\n",
       "<table border=\"1\" class=\"dataframe\">\n",
       "  <thead>\n",
       "    <tr style=\"text-align: right;\">\n",
       "      <th></th>\n",
       "      <th>title</th>\n",
       "      <th>task</th>\n",
       "      <th>tools</th>\n",
       "      <th>summary1</th>\n",
       "      <th>summary2</th>\n",
       "    </tr>\n",
       "  </thead>\n",
       "  <tbody>\n",
       "    <tr>\n",
       "      <th>95</th>\n",
       "      <td>Reflecting on My Hero’s Journey</td>\n",
       "      <td>Today's focus was on sharing the epic tale of ...</td>\n",
       "      <td>NaN</td>\n",
       "      <td>As I near the final days of this incredible ch...</td>\n",
       "      <td>The path wasn’t always easy. Learning new tool...</td>\n",
       "    </tr>\n",
       "    <tr>\n",
       "      <th>96</th>\n",
       "      <td>Grateful for the Support and Growth During #10...</td>\n",
       "      <td>Today's focus was on expressing gratitude for ...</td>\n",
       "      <td>NaN</td>\n",
       "      <td>As Day 97 rolls in, I’m taking a moment to pau...</td>\n",
       "      <td>I’ve had the honor of learning alongside some ...</td>\n",
       "    </tr>\n",
       "    <tr>\n",
       "      <th>97</th>\n",
       "      <td>Spreading the Ripple Effect!</td>\n",
       "      <td>Today's focus was on expressing gratitude and ...</td>\n",
       "      <td>NaN</td>\n",
       "      <td>As I dive deeper into Day 98 of the #100DaysOf...</td>\n",
       "      <td>Every lesson learned and every tool mastered h...</td>\n",
       "    </tr>\n",
       "    <tr>\n",
       "      <th>98</th>\n",
       "      <td>The Power of Feedback – Day 99 of #100DaysOfAI</td>\n",
       "      <td>Today's task centered around providing feedbac...</td>\n",
       "      <td>NaN</td>\n",
       "      <td>Day 99 of #100DaysOfAI and I’ve officially com...</td>\n",
       "      <td>Feedback isn’t just about pointing out what co...</td>\n",
       "    </tr>\n",
       "    <tr>\n",
       "      <th>99</th>\n",
       "      <td>Proudly Earned the Completionist Badge for #10...</td>\n",
       "      <td>Today marks the culmination of 100 days of ded...</td>\n",
       "      <td>Runway, Kapwing, Chipp, Unicorn Platform, Soft...</td>\n",
       "      <td>Day 100 of #100DaysOfAI is here, and what a tr...</td>\n",
       "      <td>The tools that shaped my journey include Runwa...</td>\n",
       "    </tr>\n",
       "  </tbody>\n",
       "</table>\n",
       "</div>"
      ],
      "text/plain": [
       "                                                title  \\\n",
       "95                    Reflecting on My Hero’s Journey   \n",
       "96  Grateful for the Support and Growth During #10...   \n",
       "97                       Spreading the Ripple Effect!   \n",
       "98     The Power of Feedback – Day 99 of #100DaysOfAI   \n",
       "99  Proudly Earned the Completionist Badge for #10...   \n",
       "\n",
       "                                                 task  \\\n",
       "95  Today's focus was on sharing the epic tale of ...   \n",
       "96  Today's focus was on expressing gratitude for ...   \n",
       "97  Today's focus was on expressing gratitude and ...   \n",
       "98  Today's task centered around providing feedbac...   \n",
       "99  Today marks the culmination of 100 days of ded...   \n",
       "\n",
       "                                                tools  \\\n",
       "95                                                NaN   \n",
       "96                                                NaN   \n",
       "97                                                NaN   \n",
       "98                                                NaN   \n",
       "99  Runway, Kapwing, Chipp, Unicorn Platform, Soft...   \n",
       "\n",
       "                                             summary1  \\\n",
       "95  As I near the final days of this incredible ch...   \n",
       "96  As Day 97 rolls in, I’m taking a moment to pau...   \n",
       "97  As I dive deeper into Day 98 of the #100DaysOf...   \n",
       "98  Day 99 of #100DaysOfAI and I’ve officially com...   \n",
       "99  Day 100 of #100DaysOfAI is here, and what a tr...   \n",
       "\n",
       "                                             summary2  \n",
       "95  The path wasn’t always easy. Learning new tool...  \n",
       "96  I’ve had the honor of learning alongside some ...  \n",
       "97  Every lesson learned and every tool mastered h...  \n",
       "98  Feedback isn’t just about pointing out what co...  \n",
       "99  The tools that shaped my journey include Runwa...  "
      ]
     },
     "execution_count": 14,
     "metadata": {},
     "output_type": "execute_result"
    }
   ],
   "source": [
    "df.tail()"
   ]
  },
  {
   "cell_type": "code",
   "execution_count": 15,
   "metadata": {},
   "outputs": [],
   "source": [
    "links=pd.read_csv(r'public\\data\\linkedin_url.csv')"
   ]
  },
  {
   "cell_type": "code",
   "execution_count": 16,
   "metadata": {},
   "outputs": [],
   "source": [
    "df['linkedinUrl']=links"
   ]
  },
  {
   "cell_type": "code",
   "execution_count": 17,
   "metadata": {},
   "outputs": [
    {
     "data": {
      "text/html": [
       "<div>\n",
       "<style scoped>\n",
       "    .dataframe tbody tr th:only-of-type {\n",
       "        vertical-align: middle;\n",
       "    }\n",
       "\n",
       "    .dataframe tbody tr th {\n",
       "        vertical-align: top;\n",
       "    }\n",
       "\n",
       "    .dataframe thead th {\n",
       "        text-align: right;\n",
       "    }\n",
       "</style>\n",
       "<table border=\"1\" class=\"dataframe\">\n",
       "  <thead>\n",
       "    <tr style=\"text-align: right;\">\n",
       "      <th></th>\n",
       "      <th>title</th>\n",
       "      <th>task</th>\n",
       "      <th>tools</th>\n",
       "      <th>summary1</th>\n",
       "      <th>summary2</th>\n",
       "      <th>linkedinUrl</th>\n",
       "    </tr>\n",
       "  </thead>\n",
       "  <tbody>\n",
       "    <tr>\n",
       "      <th>0</th>\n",
       "      <td>Starting My AI Journey</td>\n",
       "      <td>Kickstarting my journey in AI and preparing fo...</td>\n",
       "      <td>Twitter/X, LinkedIn</td>\n",
       "      <td>Focused on establishing a foundation by prepar...</td>\n",
       "      <td>Today marks the beginning of my #100DaysOfAI c...</td>\n",
       "      <td>https://www.linkedin.com/posts/mahesh-ketam_10...</td>\n",
       "    </tr>\n",
       "    <tr>\n",
       "      <th>1</th>\n",
       "      <td>Mastering Email Writing with AI</td>\n",
       "      <td>Learning to use AI-driven tools to draft and r...</td>\n",
       "      <td>ChatGPT</td>\n",
       "      <td>Explored techniques to improve email writing u...</td>\n",
       "      <td>Today’s lesson focused on using ChatGPT to enh...</td>\n",
       "      <td>https://www.linkedin.com/posts/mahesh-ketam_10...</td>\n",
       "    </tr>\n",
       "    <tr>\n",
       "      <th>2</th>\n",
       "      <td>Creating AI-Powered Marketing Strategy</td>\n",
       "      <td>Utilizing ChatGPT to develop marketing strateg...</td>\n",
       "      <td>ChatGPT</td>\n",
       "      <td>Focused on creating a comprehensive AI-powered...</td>\n",
       "      <td>Today, I delved into the PREP framework (Promp...</td>\n",
       "      <td>https://www.linkedin.com/posts/mahesh-ketam_ma...</td>\n",
       "    </tr>\n",
       "    <tr>\n",
       "      <th>3</th>\n",
       "      <td>Building a Website with AI</td>\n",
       "      <td>Creating a website for SmartPost AI using the ...</td>\n",
       "      <td>Unicorn Platform</td>\n",
       "      <td>Focused on designing and building a website fo...</td>\n",
       "      <td>Today, I took my first steps in building a web...</td>\n",
       "      <td>https://www.linkedin.com/posts/mahesh-ketam_sm...</td>\n",
       "    </tr>\n",
       "    <tr>\n",
       "      <th>4</th>\n",
       "      <td>Introducing SmartPost AI</td>\n",
       "      <td>Developed a custom AI assistant, SmartPost AI,...</td>\n",
       "      <td>Chipp</td>\n",
       "      <td>Today, I created a custom AI assistant designe...</td>\n",
       "      <td>In today’s session, I built SmartPost AI, a cu...</td>\n",
       "      <td>https://www.linkedin.com/posts/mahesh-ketam_sm...</td>\n",
       "    </tr>\n",
       "  </tbody>\n",
       "</table>\n",
       "</div>"
      ],
      "text/plain": [
       "                                    title  \\\n",
       "0                  Starting My AI Journey   \n",
       "1         Mastering Email Writing with AI   \n",
       "2  Creating AI-Powered Marketing Strategy   \n",
       "3              Building a Website with AI   \n",
       "4                Introducing SmartPost AI   \n",
       "\n",
       "                                                task                tools  \\\n",
       "0  Kickstarting my journey in AI and preparing fo...  Twitter/X, LinkedIn   \n",
       "1  Learning to use AI-driven tools to draft and r...              ChatGPT   \n",
       "2  Utilizing ChatGPT to develop marketing strateg...              ChatGPT   \n",
       "3  Creating a website for SmartPost AI using the ...     Unicorn Platform   \n",
       "4  Developed a custom AI assistant, SmartPost AI,...                Chipp   \n",
       "\n",
       "                                            summary1  \\\n",
       "0  Focused on establishing a foundation by prepar...   \n",
       "1  Explored techniques to improve email writing u...   \n",
       "2  Focused on creating a comprehensive AI-powered...   \n",
       "3  Focused on designing and building a website fo...   \n",
       "4  Today, I created a custom AI assistant designe...   \n",
       "\n",
       "                                            summary2  \\\n",
       "0  Today marks the beginning of my #100DaysOfAI c...   \n",
       "1  Today’s lesson focused on using ChatGPT to enh...   \n",
       "2  Today, I delved into the PREP framework (Promp...   \n",
       "3  Today, I took my first steps in building a web...   \n",
       "4  In today’s session, I built SmartPost AI, a cu...   \n",
       "\n",
       "                                         linkedinUrl  \n",
       "0  https://www.linkedin.com/posts/mahesh-ketam_10...  \n",
       "1  https://www.linkedin.com/posts/mahesh-ketam_10...  \n",
       "2  https://www.linkedin.com/posts/mahesh-ketam_ma...  \n",
       "3  https://www.linkedin.com/posts/mahesh-ketam_sm...  \n",
       "4  https://www.linkedin.com/posts/mahesh-ketam_sm...  "
      ]
     },
     "execution_count": 17,
     "metadata": {},
     "output_type": "execute_result"
    }
   ],
   "source": [
    "df.head()"
   ]
  },
  {
   "cell_type": "code",
   "execution_count": 18,
   "metadata": {},
   "outputs": [
    {
     "data": {
      "text/plain": [
       "title           0\n",
       "task            0\n",
       "tools          31\n",
       "summary1        0\n",
       "summary2        0\n",
       "linkedinUrl     0\n",
       "dtype: int64"
      ]
     },
     "execution_count": 18,
     "metadata": {},
     "output_type": "execute_result"
    }
   ],
   "source": [
    "df.isnull().sum()"
   ]
  },
  {
   "cell_type": "code",
   "execution_count": 19,
   "metadata": {},
   "outputs": [
    {
     "name": "stderr",
     "output_type": "stream",
     "text": [
      "C:\\Users\\nirik\\AppData\\Local\\Temp\\ipykernel_1416\\1660115214.py:1: FutureWarning: A value is trying to be set on a copy of a DataFrame or Series through chained assignment using an inplace method.\n",
      "The behavior will change in pandas 3.0. This inplace method will never work because the intermediate object on which we are setting values always behaves as a copy.\n",
      "\n",
      "For example, when doing 'df[col].method(value, inplace=True)', try using 'df.method({col: value}, inplace=True)' or df[col] = df[col].method(value) instead, to perform the operation inplace on the original object.\n",
      "\n",
      "\n",
      "  df['tools'].fillna(\"None\",inplace=True)\n"
     ]
    }
   ],
   "source": [
    "df['tools'].fillna(\"None\",inplace=True)"
   ]
  },
  {
   "cell_type": "code",
   "execution_count": 20,
   "metadata": {},
   "outputs": [
    {
     "data": {
      "text/plain": [
       "title          0\n",
       "task           0\n",
       "tools          0\n",
       "summary1       0\n",
       "summary2       0\n",
       "linkedinUrl    0\n",
       "dtype: int64"
      ]
     },
     "execution_count": 20,
     "metadata": {},
     "output_type": "execute_result"
    }
   ],
   "source": [
    "df.isnull().sum()"
   ]
  },
  {
   "cell_type": "code",
   "execution_count": 21,
   "metadata": {},
   "outputs": [
    {
     "data": {
      "text/plain": [
       "array(['Mastering Email Writing with AI',\n",
       "       'Learning to use AI-driven tools to draft and refine emails with different tones and styles',\n",
       "       'ChatGPT',\n",
       "       'Explored techniques to improve email writing using ChatGPT, focusing on adjusting tone, length, and style.',\n",
       "       'Today’s lesson focused on using ChatGPT to enhance email communication. By experimenting with prompts, I practiced creating emails in various tones, including casual and professional, and adjusted the length to be concise or detailed based on the recipient’s needs. A major highlight was the ability to add, remove, or rewrite sections on demand, making it easier to create emails that resonate with specific audiences. This experience showed how AI can simplify content creation, even enabling fun prompts like ‘Rewrite this email in the style of Elon Musk.’ Overall, it’s fascinating to see AI reshape digital interactions, making every message intentional and impactful!',\n",
       "       'https://www.linkedin.com/posts/mahesh-ketam_100daysofai-100daysofai-ai-activity-7213801526056689664-fZSs?utm_source=share&utm_medium=member_desktop'],\n",
       "      dtype=object)"
      ]
     },
     "execution_count": 21,
     "metadata": {},
     "output_type": "execute_result"
    }
   ],
   "source": [
    "df.iloc[1].values"
   ]
  },
  {
   "cell_type": "code",
   "execution_count": 22,
   "metadata": {},
   "outputs": [
    {
     "data": {
      "text/plain": [
       "title                            Mastering Email Writing with AI\n",
       "task           Learning to use AI-driven tools to draft and r...\n",
       "tools                                                    ChatGPT\n",
       "summary1       Explored techniques to improve email writing u...\n",
       "summary2       Today’s lesson focused on using ChatGPT to enh...\n",
       "linkedinUrl    https://www.linkedin.com/posts/mahesh-ketam_10...\n",
       "Name: 1, dtype: object"
      ]
     },
     "execution_count": 22,
     "metadata": {},
     "output_type": "execute_result"
    }
   ],
   "source": [
    "df.iloc[1]"
   ]
  },
  {
   "cell_type": "code",
   "execution_count": 23,
   "metadata": {},
   "outputs": [
    {
     "name": "stderr",
     "output_type": "stream",
     "text": [
      "<>:1: SyntaxWarning: invalid escape sequence '\\d'\n",
      "<>:1: SyntaxWarning: invalid escape sequence '\\d'\n",
      "C:\\Users\\nirik\\AppData\\Local\\Temp\\ipykernel_1416\\1906501576.py:1: SyntaxWarning: invalid escape sequence '\\d'\n",
      "  df.to_csv('public\\data\\progress.csv',sep='|',index=False)\n"
     ]
    }
   ],
   "source": [
    "df.to_csv('public\\data\\progress.csv',sep='|',index=False)"
   ]
  },
  {
   "cell_type": "code",
   "execution_count": 26,
   "metadata": {},
   "outputs": [],
   "source": [
    "df.summary2.to_csv('public/data/summary2.csv',index=False)"
   ]
  },
  {
   "cell_type": "code",
   "execution_count": 27,
   "metadata": {},
   "outputs": [
    {
     "data": {
      "text/html": [
       "<div>\n",
       "<style scoped>\n",
       "    .dataframe tbody tr th:only-of-type {\n",
       "        vertical-align: middle;\n",
       "    }\n",
       "\n",
       "    .dataframe tbody tr th {\n",
       "        vertical-align: top;\n",
       "    }\n",
       "\n",
       "    .dataframe thead th {\n",
       "        text-align: right;\n",
       "    }\n",
       "</style>\n",
       "<table border=\"1\" class=\"dataframe\">\n",
       "  <thead>\n",
       "    <tr style=\"text-align: right;\">\n",
       "      <th></th>\n",
       "      <th>title</th>\n",
       "      <th>task</th>\n",
       "      <th>tools</th>\n",
       "      <th>summary1</th>\n",
       "      <th>summary2</th>\n",
       "      <th>linkedinUrl</th>\n",
       "    </tr>\n",
       "  </thead>\n",
       "  <tbody>\n",
       "    <tr>\n",
       "      <th>0</th>\n",
       "      <td>Starting My AI Journey</td>\n",
       "      <td>Kickstarting my journey in AI and preparing fo...</td>\n",
       "      <td>Twitter/X, LinkedIn</td>\n",
       "      <td>Focused on establishing a foundation by prepar...</td>\n",
       "      <td>Today marks the beginning of my #100DaysOfAI c...</td>\n",
       "      <td>https://www.linkedin.com/posts/mahesh-ketam_10...</td>\n",
       "    </tr>\n",
       "    <tr>\n",
       "      <th>1</th>\n",
       "      <td>Mastering Email Writing with AI</td>\n",
       "      <td>Learning to use AI-driven tools to draft and r...</td>\n",
       "      <td>ChatGPT</td>\n",
       "      <td>Explored techniques to improve email writing u...</td>\n",
       "      <td>Today’s lesson focused on using ChatGPT to enh...</td>\n",
       "      <td>https://www.linkedin.com/posts/mahesh-ketam_10...</td>\n",
       "    </tr>\n",
       "    <tr>\n",
       "      <th>2</th>\n",
       "      <td>Creating AI-Powered Marketing Strategy</td>\n",
       "      <td>Utilizing ChatGPT to develop marketing strateg...</td>\n",
       "      <td>ChatGPT</td>\n",
       "      <td>Focused on creating a comprehensive AI-powered...</td>\n",
       "      <td>Today, I delved into the PREP framework (Promp...</td>\n",
       "      <td>https://www.linkedin.com/posts/mahesh-ketam_ma...</td>\n",
       "    </tr>\n",
       "    <tr>\n",
       "      <th>3</th>\n",
       "      <td>Building a Website with AI</td>\n",
       "      <td>Creating a website for SmartPost AI using the ...</td>\n",
       "      <td>Unicorn Platform</td>\n",
       "      <td>Focused on designing and building a website fo...</td>\n",
       "      <td>Today, I took my first steps in building a web...</td>\n",
       "      <td>https://www.linkedin.com/posts/mahesh-ketam_sm...</td>\n",
       "    </tr>\n",
       "    <tr>\n",
       "      <th>4</th>\n",
       "      <td>Introducing SmartPost AI</td>\n",
       "      <td>Developed a custom AI assistant, SmartPost AI,...</td>\n",
       "      <td>Chipp</td>\n",
       "      <td>Today, I created a custom AI assistant designe...</td>\n",
       "      <td>In today’s session, I built SmartPost AI, a cu...</td>\n",
       "      <td>https://www.linkedin.com/posts/mahesh-ketam_sm...</td>\n",
       "    </tr>\n",
       "    <tr>\n",
       "      <th>...</th>\n",
       "      <td>...</td>\n",
       "      <td>...</td>\n",
       "      <td>...</td>\n",
       "      <td>...</td>\n",
       "      <td>...</td>\n",
       "      <td>...</td>\n",
       "    </tr>\n",
       "    <tr>\n",
       "      <th>95</th>\n",
       "      <td>Reflecting on My Hero’s Journey</td>\n",
       "      <td>Today's focus was on sharing the epic tale of ...</td>\n",
       "      <td>None</td>\n",
       "      <td>As I near the final days of this incredible ch...</td>\n",
       "      <td>The path wasn’t always easy. Learning new tool...</td>\n",
       "      <td>https://www.linkedin.com/posts/mahesh-ketam_10...</td>\n",
       "    </tr>\n",
       "    <tr>\n",
       "      <th>96</th>\n",
       "      <td>Grateful for the Support and Growth During #10...</td>\n",
       "      <td>Today's focus was on expressing gratitude for ...</td>\n",
       "      <td>None</td>\n",
       "      <td>As Day 97 rolls in, I’m taking a moment to pau...</td>\n",
       "      <td>I’ve had the honor of learning alongside some ...</td>\n",
       "      <td>https://www.linkedin.com/posts/mahesh-ketam_10...</td>\n",
       "    </tr>\n",
       "    <tr>\n",
       "      <th>97</th>\n",
       "      <td>Spreading the Ripple Effect!</td>\n",
       "      <td>Today's focus was on expressing gratitude and ...</td>\n",
       "      <td>None</td>\n",
       "      <td>As I dive deeper into Day 98 of the #100DaysOf...</td>\n",
       "      <td>Every lesson learned and every tool mastered h...</td>\n",
       "      <td>https://www.linkedin.com/posts/mahesh-ketam_10...</td>\n",
       "    </tr>\n",
       "    <tr>\n",
       "      <th>98</th>\n",
       "      <td>The Power of Feedback – Day 99 of #100DaysOfAI</td>\n",
       "      <td>Today's task centered around providing feedbac...</td>\n",
       "      <td>None</td>\n",
       "      <td>Day 99 of #100DaysOfAI and I’ve officially com...</td>\n",
       "      <td>Feedback isn’t just about pointing out what co...</td>\n",
       "      <td>https://www.linkedin.com/posts/mahesh-ketam_10...</td>\n",
       "    </tr>\n",
       "    <tr>\n",
       "      <th>99</th>\n",
       "      <td>Proudly Earned the Completionist Badge for #10...</td>\n",
       "      <td>Today marks the culmination of 100 days of ded...</td>\n",
       "      <td>Runway, Kapwing, Chipp, Unicorn Platform, Soft...</td>\n",
       "      <td>Day 100 of #100DaysOfAI is here, and what a tr...</td>\n",
       "      <td>The tools that shaped my journey include Runwa...</td>\n",
       "      <td>https://www.linkedin.com/posts/mahesh-ketam_10...</td>\n",
       "    </tr>\n",
       "  </tbody>\n",
       "</table>\n",
       "<p>100 rows × 6 columns</p>\n",
       "</div>"
      ],
      "text/plain": [
       "                                                title  \\\n",
       "0                              Starting My AI Journey   \n",
       "1                     Mastering Email Writing with AI   \n",
       "2              Creating AI-Powered Marketing Strategy   \n",
       "3                          Building a Website with AI   \n",
       "4                            Introducing SmartPost AI   \n",
       "..                                                ...   \n",
       "95                    Reflecting on My Hero’s Journey   \n",
       "96  Grateful for the Support and Growth During #10...   \n",
       "97                       Spreading the Ripple Effect!   \n",
       "98     The Power of Feedback – Day 99 of #100DaysOfAI   \n",
       "99  Proudly Earned the Completionist Badge for #10...   \n",
       "\n",
       "                                                 task  \\\n",
       "0   Kickstarting my journey in AI and preparing fo...   \n",
       "1   Learning to use AI-driven tools to draft and r...   \n",
       "2   Utilizing ChatGPT to develop marketing strateg...   \n",
       "3   Creating a website for SmartPost AI using the ...   \n",
       "4   Developed a custom AI assistant, SmartPost AI,...   \n",
       "..                                                ...   \n",
       "95  Today's focus was on sharing the epic tale of ...   \n",
       "96  Today's focus was on expressing gratitude for ...   \n",
       "97  Today's focus was on expressing gratitude and ...   \n",
       "98  Today's task centered around providing feedbac...   \n",
       "99  Today marks the culmination of 100 days of ded...   \n",
       "\n",
       "                                                tools  \\\n",
       "0                                 Twitter/X, LinkedIn   \n",
       "1                                             ChatGPT   \n",
       "2                                             ChatGPT   \n",
       "3                                    Unicorn Platform   \n",
       "4                                               Chipp   \n",
       "..                                                ...   \n",
       "95                                               None   \n",
       "96                                               None   \n",
       "97                                               None   \n",
       "98                                               None   \n",
       "99  Runway, Kapwing, Chipp, Unicorn Platform, Soft...   \n",
       "\n",
       "                                             summary1  \\\n",
       "0   Focused on establishing a foundation by prepar...   \n",
       "1   Explored techniques to improve email writing u...   \n",
       "2   Focused on creating a comprehensive AI-powered...   \n",
       "3   Focused on designing and building a website fo...   \n",
       "4   Today, I created a custom AI assistant designe...   \n",
       "..                                                ...   \n",
       "95  As I near the final days of this incredible ch...   \n",
       "96  As Day 97 rolls in, I’m taking a moment to pau...   \n",
       "97  As I dive deeper into Day 98 of the #100DaysOf...   \n",
       "98  Day 99 of #100DaysOfAI and I’ve officially com...   \n",
       "99  Day 100 of #100DaysOfAI is here, and what a tr...   \n",
       "\n",
       "                                             summary2  \\\n",
       "0   Today marks the beginning of my #100DaysOfAI c...   \n",
       "1   Today’s lesson focused on using ChatGPT to enh...   \n",
       "2   Today, I delved into the PREP framework (Promp...   \n",
       "3   Today, I took my first steps in building a web...   \n",
       "4   In today’s session, I built SmartPost AI, a cu...   \n",
       "..                                                ...   \n",
       "95  The path wasn’t always easy. Learning new tool...   \n",
       "96  I’ve had the honor of learning alongside some ...   \n",
       "97  Every lesson learned and every tool mastered h...   \n",
       "98  Feedback isn’t just about pointing out what co...   \n",
       "99  The tools that shaped my journey include Runwa...   \n",
       "\n",
       "                                          linkedinUrl  \n",
       "0   https://www.linkedin.com/posts/mahesh-ketam_10...  \n",
       "1   https://www.linkedin.com/posts/mahesh-ketam_10...  \n",
       "2   https://www.linkedin.com/posts/mahesh-ketam_ma...  \n",
       "3   https://www.linkedin.com/posts/mahesh-ketam_sm...  \n",
       "4   https://www.linkedin.com/posts/mahesh-ketam_sm...  \n",
       "..                                                ...  \n",
       "95  https://www.linkedin.com/posts/mahesh-ketam_10...  \n",
       "96  https://www.linkedin.com/posts/mahesh-ketam_10...  \n",
       "97  https://www.linkedin.com/posts/mahesh-ketam_10...  \n",
       "98  https://www.linkedin.com/posts/mahesh-ketam_10...  \n",
       "99  https://www.linkedin.com/posts/mahesh-ketam_10...  \n",
       "\n",
       "[100 rows x 6 columns]"
      ]
     },
     "execution_count": 27,
     "metadata": {},
     "output_type": "execute_result"
    }
   ],
   "source": [
    "df"
   ]
  },
  {
   "cell_type": "code",
   "execution_count": null,
   "metadata": {},
   "outputs": [],
   "source": []
  }
 ],
 "metadata": {
  "kernelspec": {
   "display_name": "Python 3",
   "language": "python",
   "name": "python3"
  },
  "language_info": {
   "codemirror_mode": {
    "name": "ipython",
    "version": 3
   },
   "file_extension": ".py",
   "mimetype": "text/x-python",
   "name": "python",
   "nbconvert_exporter": "python",
   "pygments_lexer": "ipython3",
   "version": "3.12.3"
  }
 },
 "nbformat": 4,
 "nbformat_minor": 2
}
